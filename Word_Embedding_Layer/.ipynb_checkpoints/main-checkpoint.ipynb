{
 "cells": [
  {
   "cell_type": "code",
   "execution_count": null,
   "id": "47494233",
   "metadata": {},
   "outputs": [],
   "source": [
    "#Pre Req, in linux type these commands in console \n",
    "# wget http://nlp.stanford.edu/data/glove.6B.zip\n",
    "# unzip glove.6B.zip\n",
    "\n",
    "import numpy as np\n",
    "import tensorflow as tf\n",
    "\n",
    "embeddings_index = {}\n",
    "with open('glove.6B.100d.txt') as f:\n",
    "    for line in f:\n",
    "        word, coefs = line.split(maxsplit=1)\n",
    "        coefs = np.fromstring(coefs, \"f\", sep=\" \")\n",
    "        embeddings_index[word] = coefs\n",
    "     \n",
    "fixed_embedding_matrix = np.zeros((vocab_size, 100))\n",
    "for i, word in enumerate(vocabulary):\n",
    "    embedding_vector = embeddings_index.get(word)\n",
    "    if embedding_vector is not None:\n",
    "        # Words not found in embedding index will be all-zeros.\n",
    "        fixed_embedding_matrix[i] = embedding_vector\n",
    "        \n",
    "fixed_embedding = tf.keras.layers.Embedding(\n",
    "    self.nli_voba_size,\n",
    "    100,\n",
    "    embeddings_initializer=tf.keras.initializers.Constant(fixed_embedding_matrix),\n",
    "    trainable=False,\n",
    "    mask_zero=True)"
   ]
  }
 ],
 "metadata": {
  "kernelspec": {
   "display_name": "Python 3",
   "language": "python",
   "name": "python3"
  },
  "language_info": {
   "codemirror_mode": {
    "name": "ipython",
    "version": 3
   },
   "file_extension": ".py",
   "mimetype": "text/x-python",
   "name": "python",
   "nbconvert_exporter": "python",
   "pygments_lexer": "ipython3",
   "version": "3.8.8"
  }
 },
 "nbformat": 4,
 "nbformat_minor": 5
}
